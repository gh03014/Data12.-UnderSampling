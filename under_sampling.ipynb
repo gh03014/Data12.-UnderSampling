{
 "cells": [
  {
   "cell_type": "code",
   "execution_count": 1,
   "metadata": {},
   "outputs": [],
   "source": [
    "import os\n",
    "import pandas as pd"
   ]
  },
  {
   "cell_type": "code",
   "execution_count": 2,
   "metadata": {},
   "outputs": [],
   "source": [
    "df = pd.read_csv(\"page-blocks0.csv\")"
   ]
  },
  {
   "cell_type": "code",
   "execution_count": 3,
   "metadata": {
    "scrolled": true
   },
   "outputs": [],
   "source": [
    "# 특징과 라벨 분리\n",
    "X = df.drop('Class', axis = 1)\n",
    "Y = df['Class']"
   ]
  },
  {
   "cell_type": "code",
   "execution_count": 4,
   "metadata": {},
   "outputs": [],
   "source": [
    "# 학습 데이터와 평가 데이터 분할\n",
    "from sklearn.model_selection import train_test_split\n",
    "Train_X, Test_X, Train_Y, Test_Y = train_test_split(X, Y)"
   ]
  },
  {
   "cell_type": "code",
   "execution_count": 5,
   "metadata": {
    "scrolled": true
   },
   "outputs": [
    {
     "data": {
      "text/plain": [
       "negative    3676\n",
       "positive     428\n",
       "Name: Class, dtype: int64"
      ]
     },
     "execution_count": 5,
     "metadata": {},
     "output_type": "execute_result"
    }
   ],
   "source": [
    "# 클래스 불균형 확인\n",
    "Train_Y.value_counts()"
   ]
  },
  {
   "cell_type": "code",
   "execution_count": 6,
   "metadata": {},
   "outputs": [],
   "source": [
    "Train_Y.replace({\"negative\":-1, \"positive\":1}, inplace = True)\n",
    "Test_Y.replace({\"negative\":-1, \"positive\":1}, inplace = True)"
   ]
  },
  {
   "cell_type": "code",
   "execution_count": 7,
   "metadata": {},
   "outputs": [
    {
     "data": {
      "text/plain": [
       "8.588785046728972"
      ]
     },
     "execution_count": 7,
     "metadata": {},
     "output_type": "execute_result"
    }
   ],
   "source": [
    "# 클래스 불균형 비율 계산\n",
    "Train_Y.value_counts().iloc[0] / Train_Y.value_counts().iloc[-1]"
   ]
  },
  {
   "cell_type": "code",
   "execution_count": 8,
   "metadata": {},
   "outputs": [
    {
     "name": "stdout",
     "output_type": "stream",
     "text": [
      "0.6412213740458015\n",
      "0.956140350877193\n"
     ]
    }
   ],
   "source": [
    "# kNN을 사용한 클래스 불균형 테스트\n",
    "from sklearn.neighbors import KNeighborsClassifier as KNN\n",
    "from sklearn.metrics import *\n",
    "kNN_model = KNN(n_neighbors = 11).fit(Train_X, Train_Y)\n",
    "pred_Y = kNN_model.predict(Test_X)\n",
    "print(recall_score(Test_Y, pred_Y))\n",
    "print(accuracy_score(Test_Y, pred_Y))\n",
    "\n",
    "# 재현율이 60%로 불균형이 심각한 수준은 아니라고 보임"
   ]
  },
  {
   "cell_type": "code",
   "execution_count": 9,
   "metadata": {},
   "outputs": [],
   "source": [
    "# 불균형한 데이터 셋에서 높은 비율을 차지하던 클래스의 데이터 수를 줄인다.\n",
    "# 데이터양이 감소하여 오히려 전체적인 성능이 감소할 수 있다.\n",
    "\n",
    "from imblearn.under_sampling import NearMiss\n",
    "# version = 2: 모든 소수 클래스 샘플까지의 평균 거리를 활용\n",
    "NM_model = NearMiss(version = 2) \n",
    "\n",
    "# NearMiss 적용\n",
    "u_Train_X, u_Train_Y = NM_model.fit_sample(Train_X, Train_Y)\n",
    "u_Train_X = pd.DataFrame(u_Train_X, columns = X.columns)\n",
    "u_Train_Y = pd.Series(u_Train_Y)"
   ]
  },
  {
   "cell_type": "code",
   "execution_count": 10,
   "metadata": {},
   "outputs": [
    {
     "data": {
      "text/plain": [
       "-1    428\n",
       " 1    428\n",
       "Name: Class, dtype: int64"
      ]
     },
     "execution_count": 10,
     "metadata": {},
     "output_type": "execute_result"
    }
   ],
   "source": [
    "u_Train_Y.value_counts()"
   ]
  },
  {
   "cell_type": "code",
   "execution_count": 11,
   "metadata": {},
   "outputs": [
    {
     "name": "stdout",
     "output_type": "stream",
     "text": [
      "0.9236641221374046\n",
      "0.21637426900584794\n"
     ]
    }
   ],
   "source": [
    "# kNN 재적용을 통한 성능 변화 확인\n",
    "from sklearn.neighbors import KNeighborsClassifier as KNN\n",
    "from sklearn.metrics import *\n",
    "kNN_model = KNN(n_neighbors = 11).fit(u_Train_X, u_Train_Y)\n",
    "pred_Y = kNN_model.predict(Test_X)\n",
    "print(recall_score(Test_Y, pred_Y))\n",
    "print(accuracy_score(Test_Y, pred_Y))\n",
    "\n",
    "# 재현율은 크게 올랐으나, 정확도가 크게 떨어짐 => 적당한 비율에 맞게 설정해야 함"
   ]
  },
  {
   "cell_type": "code",
   "execution_count": 12,
   "metadata": {},
   "outputs": [],
   "source": [
    "from imblearn.under_sampling import NearMiss\n",
    "# 5:1 정도의 비율로 언더샘플링 재수행\n",
    "\n",
    "NM_model = NearMiss(version = 2, sampling_strategy = {1:u_Train_Y.value_counts().iloc[-1],\n",
    "                                                      -1:u_Train_Y.value_counts().iloc[-1] * 5}) \n",
    "u_Train_X, u_Train_Y = NM_model.fit_sample(Train_X, Train_Y)\n",
    "u_Train_X = pd.DataFrame(u_Train_X, columns = X.columns)\n",
    "u_Train_Y = pd.Series(u_Train_Y)"
   ]
  },
  {
   "cell_type": "code",
   "execution_count": 13,
   "metadata": {},
   "outputs": [
    {
     "data": {
      "text/plain": [
       "-1    2140\n",
       " 1     428\n",
       "Name: Class, dtype: int64"
      ]
     },
     "execution_count": 13,
     "metadata": {},
     "output_type": "execute_result"
    }
   ],
   "source": [
    "u_Train_Y.value_counts()"
   ]
  },
  {
   "cell_type": "code",
   "execution_count": 14,
   "metadata": {},
   "outputs": [
    {
     "name": "stdout",
     "output_type": "stream",
     "text": [
      "0.8091603053435115\n",
      "0.685672514619883\n"
     ]
    }
   ],
   "source": [
    "from sklearn.neighbors import KNeighborsClassifier as KNN\n",
    "from sklearn.metrics import *\n",
    "kNN_model = KNN(n_neighbors = 11).fit(u_Train_X, u_Train_Y)\n",
    "pred_Y = kNN_model.predict(Test_X)\n",
    "print(recall_score(Test_Y, pred_Y))\n",
    "print(accuracy_score(Test_Y, pred_Y))"
   ]
  },
  {
   "cell_type": "code",
   "execution_count": null,
   "metadata": {},
   "outputs": [],
   "source": []
  }
 ],
 "metadata": {
  "kernelspec": {
   "display_name": "Python 3",
   "language": "python",
   "name": "python3"
  },
  "language_info": {
   "codemirror_mode": {
    "name": "ipython",
    "version": 3
   },
   "file_extension": ".py",
   "mimetype": "text/x-python",
   "name": "python",
   "nbconvert_exporter": "python",
   "pygments_lexer": "ipython3",
   "version": "3.8.5"
  }
 },
 "nbformat": 4,
 "nbformat_minor": 2
}
